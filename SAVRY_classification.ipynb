{
 "cells": [
  {
   "cell_type": "code",
   "execution_count": 82,
   "metadata": {},
   "outputs": [],
   "source": [
    "import pandas as pd\n",
    "import seaborn as sns\n",
    "import numpy as np\n",
    "import itertools\n",
    "import matplotlib.pyplot as plt\n",
    "import matplotlib.ticker as ticker\n",
    "from matplotlib import colors\n",
    "from matplotlib.ticker import PercentFormatter\n",
    "from sklearn import metrics\n",
    "import pickle\n",
    "def save_object(obj, filename):\n",
    "    with open(filename, 'wb') as output:  # Overwrites any existing file.\n",
    "        pickle.dump(obj, output, pickle.HIGHEST_PROTOCOL)\n",
    "from aequitas.group import Group\n",
    "from aequitas.bias import Bias\n",
    "from aequitas.fairness import Fairness\n",
    "\n",
    "#prep\n",
    "from sklearn.model_selection import train_test_split, GridSearchCV, RandomizedSearchCV\n",
    "from sklearn.preprocessing import LabelEncoder, StandardScaler, MaxAbsScaler, QuantileTransformer\n",
    "\n",
    "#models\n",
    "from sklearn.linear_model import LogisticRegression, LogisticRegressionCV, LinearRegression, Ridge, RidgeCV\n",
    "from sklearn.tree import DecisionTreeRegressor\n",
    "from sklearn.ensemble import RandomForestRegressor\n",
    "\n",
    "#validation libraries\n",
    "from sklearn.cross_validation import KFold, StratifiedKFold"
   ]
  },
  {
   "cell_type": "code",
   "execution_count": 2,
   "metadata": {},
   "outputs": [],
   "source": [
    "##Load datasets\n",
    "with open('dat/dfmain.pkl', 'rb') as pickle_file:\n",
    "    dfmain = pickle.load(pickle_file) "
   ]
  },
  {
   "cell_type": "code",
   "execution_count": 63,
   "metadata": {},
   "outputs": [
    {
     "name": "stderr",
     "output_type": "stream",
     "text": [
      "/Users/mariusmiron/anaconda/envs/bias/lib/python3.6/site-packages/ipykernel_launcher.py:3: SettingWithCopyWarning: \n",
      "A value is trying to be set on a copy of a slice from a DataFrame\n",
      "\n",
      "See the caveats in the documentation: http://pandas.pydata.org/pandas-docs/stable/indexing.html#indexing-view-versus-copy\n",
      "  This is separate from the ipykernel package so we can avoid doing imports until\n",
      "/Users/mariusmiron/anaconda/envs/bias/lib/python3.6/site-packages/ipykernel_launcher.py:4: SettingWithCopyWarning: \n",
      "A value is trying to be set on a copy of a slice from a DataFrame\n",
      "\n",
      "See the caveats in the documentation: http://pandas.pydata.org/pandas-docs/stable/indexing.html#indexing-view-versus-copy\n",
      "  after removing the cwd from sys.path.\n",
      "/Users/mariusmiron/anaconda/envs/bias/lib/python3.6/site-packages/pandas/core/generic.py:4619: SettingWithCopyWarning: \n",
      "A value is trying to be set on a copy of a slice from a DataFrame\n",
      "\n",
      "See the caveats in the documentation: http://pandas.pydata.org/pandas-docs/stable/indexing.html#indexing-view-versus-copy\n",
      "  self._update_inplace(new_data)\n"
     ]
    },
    {
     "data": {
      "text/plain": [
       "array([[1. , 1. , 0.5, ..., 1. , 0.5, 0.5],\n",
       "       [1. , 1. , 0.5, ..., 0. , 0. , 0.5],\n",
       "       [1. , 1. , 1. , ..., 0.5, 0.5, 0. ],\n",
       "       ...,\n",
       "       [0. , 0. , 0. , ..., 0. , 0. , 1. ],\n",
       "       [0. , 0. , 0. , ..., 0. , 0. , 0. ],\n",
       "       [0. , 0. , 0.5, ..., 0. , 0. , 0. ]])"
      ]
     },
     "execution_count": 63,
     "metadata": {},
     "output_type": "execute_result"
    }
   ],
   "source": [
    "df=dfmain[['recid','V65_@1_violencia_previa','V66_@2_historia_delictes_no_violents','V67_@3_inici_precoç_violencia',\\\n",
    "           'V68_@4_fracas_intervencions_anteriors','V69_@5_intents_autolesio_suicidi_anteriors','V70_@6_exposicio_violencia_llar',\\\n",
    "          'V71_@7_historia_maltracte_infantil','V72_@8_delinquencia_pares','V73_@9_separacio_precoç_pares',\\\n",
    "          'V74_@10_baix_rendiment_escola','V75_@11_delinquencia_grup_iguals','V76_@12_rebuig_grup_iguals',\\\n",
    "          'V77_@13_estrés_incapacitat_enfrontar_dificultats','V78_@14_escassa_habilitat_pares_educar','V79_@15_manca_suport_personal_social',\\\n",
    "          'V80_@16_entorn_marginal','V81_@17_actitud_negatives','V82_@18_assumpcio_riscos_impulsivitat',\\\n",
    "          'V83_@19_problemes_consum_toxics','V84_@20_problemes_maneig_enuig','V85_@21_baix_nivell_empatia_remordiment',\\\n",
    "          'V86_@22_problemes_concentracio_hiperactivitat','V87_@23_baixa_colaboracio_intervencions','V88_@24_baix_compromis_escolar_laboral']]\n",
    "\n",
    "df.dropna(inplace=True)\n",
    "df.replace(['Baix','Moderat','Alt'],[0,0.5,1],inplace=True)\n",
    "df['recid'].replace(['Sí','No'],[1,0],inplace=True)\n",
    "df.as_matrix()"
   ]
  },
  {
   "cell_type": "code",
   "execution_count": 64,
   "metadata": {},
   "outputs": [],
   "source": [
    "df = df.sample(frac=1, axis=1).reset_index(drop=True)\n",
    "feature_cols = [col for col in df.columns if 'recid' not in col]\n",
    "y = df['recid']\n",
    "X = df[feature_cols]"
   ]
  },
  {
   "cell_type": "code",
   "execution_count": 90,
   "metadata": {},
   "outputs": [
    {
     "name": "stdout",
     "output_type": "stream",
     "text": [
      "(684, 24) (172, 24) (684,) (172,)\n"
     ]
    }
   ],
   "source": [
    "X_cls_train, X_cls_valid, y_cls_train, y_cls_valid = train_test_split(X,y, test_size=0.2)\n",
    "print(X_cls_train.shape, X_cls_valid.shape, y_cls_train.shape, y_cls_valid.shape)"
   ]
  },
  {
   "cell_type": "markdown",
   "metadata": {},
   "source": [
    "## Classification using logistic regression"
   ]
  },
  {
   "cell_type": "markdown",
   "metadata": {},
   "source": [
    "When using clasification, or logistic regression, we can always get the predictions  .predict(usually 0, 1, 2 or discrete values). But there's a second function all .predict_logproba and .predict_proba with will give a [0,1] probability for every row. This is often used to rank predictions for classification scores (listed below)"
   ]
  },
  {
   "cell_type": "markdown",
   "metadata": {},
   "source": [
    "why log prob vs. prob? Gradient methods generally work better optimizing logp(x)log⁡p(x) than p(x)p(x) because the gradient of logp(x)log⁡p(x) is generally more well-scaled. That is, it has a size that consistently and helpfully reflects the objective function's geometry, making it easier to select an appropriate step size and get to the optimum in fewer steps.\n",
    "\n",
    "- .predict - gives 1's and 0's\n",
    "- .predict_logproba - gives array of log probabilities, obs vs. classes\n",
    "- .predict_proba - gives array of probabilities, obs vs. classes"
   ]
  },
  {
   "cell_type": "code",
   "execution_count": 91,
   "metadata": {},
   "outputs": [
    {
     "data": {
      "text/plain": [
       "LogisticRegression(C=1.0, class_weight=None, dual=False, fit_intercept=True,\n",
       "          intercept_scaling=1, max_iter=100, multi_class='ovr', n_jobs=1,\n",
       "          penalty='l2', random_state=None, solver='liblinear', tol=0.0001,\n",
       "          verbose=0, warm_start=False)"
      ]
     },
     "execution_count": 91,
     "metadata": {},
     "output_type": "execute_result"
    }
   ],
   "source": [
    "lgm = LogisticRegression()\n",
    "lgm.fit(X_cls_train,y_cls_train)"
   ]
  },
  {
   "cell_type": "code",
   "execution_count": 97,
   "metadata": {},
   "outputs": [
    {
     "data": {
      "text/plain": [
       "0.563953488372093"
      ]
     },
     "execution_count": 97,
     "metadata": {},
     "output_type": "execute_result"
    }
   ],
   "source": [
    "lgm.score(X_cls_valid,y_cls_valid)"
   ]
  },
  {
   "cell_type": "code",
   "execution_count": 96,
   "metadata": {},
   "outputs": [
    {
     "data": {
      "text/plain": [
       "0.6812865497076024"
      ]
     },
     "execution_count": 96,
     "metadata": {},
     "output_type": "execute_result"
    }
   ],
   "source": [
    "lgm.score(X_cls_train,y_cls_train)"
   ]
  },
  {
   "cell_type": "code",
   "execution_count": 94,
   "metadata": {},
   "outputs": [
    {
     "data": {
      "text/html": [
       "<div>\n",
       "<style scoped>\n",
       "    .dataframe tbody tr th:only-of-type {\n",
       "        vertical-align: middle;\n",
       "    }\n",
       "\n",
       "    .dataframe tbody tr th {\n",
       "        vertical-align: top;\n",
       "    }\n",
       "\n",
       "    .dataframe thead th {\n",
       "        text-align: right;\n",
       "    }\n",
       "</style>\n",
       "<table border=\"1\" class=\"dataframe\">\n",
       "  <thead>\n",
       "    <tr style=\"text-align: right;\">\n",
       "      <th></th>\n",
       "      <th>log_prob_0</th>\n",
       "      <th>log_prob_1</th>\n",
       "      <th>predict</th>\n",
       "      <th>prob_0</th>\n",
       "      <th>prob_1</th>\n",
       "      <th>true</th>\n",
       "    </tr>\n",
       "  </thead>\n",
       "  <tbody>\n",
       "    <tr>\n",
       "      <th>0</th>\n",
       "      <td>-0.376058</td>\n",
       "      <td>-1.160154</td>\n",
       "      <td>0</td>\n",
       "      <td>0.686562</td>\n",
       "      <td>0.313438</td>\n",
       "      <td>0</td>\n",
       "    </tr>\n",
       "    <tr>\n",
       "      <th>1</th>\n",
       "      <td>-0.191628</td>\n",
       "      <td>-1.746486</td>\n",
       "      <td>0</td>\n",
       "      <td>0.825614</td>\n",
       "      <td>0.174386</td>\n",
       "      <td>1</td>\n",
       "    </tr>\n",
       "    <tr>\n",
       "      <th>2</th>\n",
       "      <td>-0.440081</td>\n",
       "      <td>-1.032780</td>\n",
       "      <td>0</td>\n",
       "      <td>0.643984</td>\n",
       "      <td>0.356016</td>\n",
       "      <td>0</td>\n",
       "    </tr>\n",
       "    <tr>\n",
       "      <th>3</th>\n",
       "      <td>-0.651993</td>\n",
       "      <td>-0.736068</td>\n",
       "      <td>0</td>\n",
       "      <td>0.521006</td>\n",
       "      <td>0.478994</td>\n",
       "      <td>0</td>\n",
       "    </tr>\n",
       "    <tr>\n",
       "      <th>4</th>\n",
       "      <td>-0.704188</td>\n",
       "      <td>-0.682227</td>\n",
       "      <td>1</td>\n",
       "      <td>0.494510</td>\n",
       "      <td>0.505490</td>\n",
       "      <td>0</td>\n",
       "    </tr>\n",
       "    <tr>\n",
       "      <th>5</th>\n",
       "      <td>-0.285326</td>\n",
       "      <td>-1.393396</td>\n",
       "      <td>0</td>\n",
       "      <td>0.751769</td>\n",
       "      <td>0.248231</td>\n",
       "      <td>0</td>\n",
       "    </tr>\n",
       "    <tr>\n",
       "      <th>6</th>\n",
       "      <td>-0.230525</td>\n",
       "      <td>-1.580445</td>\n",
       "      <td>0</td>\n",
       "      <td>0.794117</td>\n",
       "      <td>0.205883</td>\n",
       "      <td>0</td>\n",
       "    </tr>\n",
       "    <tr>\n",
       "      <th>7</th>\n",
       "      <td>-0.299787</td>\n",
       "      <td>-1.350836</td>\n",
       "      <td>0</td>\n",
       "      <td>0.740976</td>\n",
       "      <td>0.259024</td>\n",
       "      <td>1</td>\n",
       "    </tr>\n",
       "    <tr>\n",
       "      <th>8</th>\n",
       "      <td>-0.362826</td>\n",
       "      <td>-1.189766</td>\n",
       "      <td>0</td>\n",
       "      <td>0.695707</td>\n",
       "      <td>0.304293</td>\n",
       "      <td>0</td>\n",
       "    </tr>\n",
       "    <tr>\n",
       "      <th>9</th>\n",
       "      <td>-0.339598</td>\n",
       "      <td>-1.244991</td>\n",
       "      <td>0</td>\n",
       "      <td>0.712056</td>\n",
       "      <td>0.287944</td>\n",
       "      <td>0</td>\n",
       "    </tr>\n",
       "    <tr>\n",
       "      <th>10</th>\n",
       "      <td>-0.367278</td>\n",
       "      <td>-1.179660</td>\n",
       "      <td>0</td>\n",
       "      <td>0.692617</td>\n",
       "      <td>0.307383</td>\n",
       "      <td>0</td>\n",
       "    </tr>\n",
       "    <tr>\n",
       "      <th>11</th>\n",
       "      <td>-0.536895</td>\n",
       "      <td>-0.878419</td>\n",
       "      <td>0</td>\n",
       "      <td>0.584561</td>\n",
       "      <td>0.415439</td>\n",
       "      <td>1</td>\n",
       "    </tr>\n",
       "    <tr>\n",
       "      <th>12</th>\n",
       "      <td>-0.468362</td>\n",
       "      <td>-0.983571</td>\n",
       "      <td>0</td>\n",
       "      <td>0.626027</td>\n",
       "      <td>0.373973</td>\n",
       "      <td>1</td>\n",
       "    </tr>\n",
       "    <tr>\n",
       "      <th>13</th>\n",
       "      <td>-0.770891</td>\n",
       "      <td>-0.621014</td>\n",
       "      <td>1</td>\n",
       "      <td>0.462601</td>\n",
       "      <td>0.537399</td>\n",
       "      <td>1</td>\n",
       "    </tr>\n",
       "    <tr>\n",
       "      <th>14</th>\n",
       "      <td>-0.849338</td>\n",
       "      <td>-0.558088</td>\n",
       "      <td>1</td>\n",
       "      <td>0.427698</td>\n",
       "      <td>0.572302</td>\n",
       "      <td>1</td>\n",
       "    </tr>\n",
       "    <tr>\n",
       "      <th>15</th>\n",
       "      <td>-0.598763</td>\n",
       "      <td>-0.797377</td>\n",
       "      <td>0</td>\n",
       "      <td>0.549491</td>\n",
       "      <td>0.450509</td>\n",
       "      <td>0</td>\n",
       "    </tr>\n",
       "    <tr>\n",
       "      <th>16</th>\n",
       "      <td>-0.744240</td>\n",
       "      <td>-0.644538</td>\n",
       "      <td>1</td>\n",
       "      <td>0.475095</td>\n",
       "      <td>0.524905</td>\n",
       "      <td>1</td>\n",
       "    </tr>\n",
       "    <tr>\n",
       "      <th>17</th>\n",
       "      <td>-0.563616</td>\n",
       "      <td>-0.841988</td>\n",
       "      <td>0</td>\n",
       "      <td>0.569147</td>\n",
       "      <td>0.430853</td>\n",
       "      <td>0</td>\n",
       "    </tr>\n",
       "    <tr>\n",
       "      <th>18</th>\n",
       "      <td>-0.166745</td>\n",
       "      <td>-1.873504</td>\n",
       "      <td>0</td>\n",
       "      <td>0.846415</td>\n",
       "      <td>0.153585</td>\n",
       "      <td>0</td>\n",
       "    </tr>\n",
       "    <tr>\n",
       "      <th>19</th>\n",
       "      <td>-0.507352</td>\n",
       "      <td>-0.921524</td>\n",
       "      <td>0</td>\n",
       "      <td>0.602088</td>\n",
       "      <td>0.397912</td>\n",
       "      <td>1</td>\n",
       "    </tr>\n",
       "  </tbody>\n",
       "</table>\n",
       "</div>"
      ],
      "text/plain": [
       "    log_prob_0  log_prob_1  predict    prob_0    prob_1  true\n",
       "0    -0.376058   -1.160154        0  0.686562  0.313438     0\n",
       "1    -0.191628   -1.746486        0  0.825614  0.174386     1\n",
       "2    -0.440081   -1.032780        0  0.643984  0.356016     0\n",
       "3    -0.651993   -0.736068        0  0.521006  0.478994     0\n",
       "4    -0.704188   -0.682227        1  0.494510  0.505490     0\n",
       "5    -0.285326   -1.393396        0  0.751769  0.248231     0\n",
       "6    -0.230525   -1.580445        0  0.794117  0.205883     0\n",
       "7    -0.299787   -1.350836        0  0.740976  0.259024     1\n",
       "8    -0.362826   -1.189766        0  0.695707  0.304293     0\n",
       "9    -0.339598   -1.244991        0  0.712056  0.287944     0\n",
       "10   -0.367278   -1.179660        0  0.692617  0.307383     0\n",
       "11   -0.536895   -0.878419        0  0.584561  0.415439     1\n",
       "12   -0.468362   -0.983571        0  0.626027  0.373973     1\n",
       "13   -0.770891   -0.621014        1  0.462601  0.537399     1\n",
       "14   -0.849338   -0.558088        1  0.427698  0.572302     1\n",
       "15   -0.598763   -0.797377        0  0.549491  0.450509     0\n",
       "16   -0.744240   -0.644538        1  0.475095  0.524905     1\n",
       "17   -0.563616   -0.841988        0  0.569147  0.430853     0\n",
       "18   -0.166745   -1.873504        0  0.846415  0.153585     0\n",
       "19   -0.507352   -0.921524        0  0.602088  0.397912     1"
      ]
     },
     "execution_count": 94,
     "metadata": {},
     "output_type": "execute_result"
    }
   ],
   "source": [
    "y_lgm_p = lgm.predict(X_cls_train)\n",
    "y_lgm_lpr = lgm.predict_log_proba(X_cls_train)\n",
    "y_lgm_pr = lgm.predict_proba(X_cls_train)\n",
    "\n",
    "y_lgm_lpr[:,0]\n",
    "y_lgm_pr[:,0]\n",
    "y_lgm_pr[:,1]\n",
    "pd.DataFrame({'true': y_cls_train.values,\n",
    "              'predict':y_lgm_p, \n",
    "              'log_prob_0':y_lgm_lpr[:,0],\n",
    "              'log_prob_1':y_lgm_lpr[:,1],\n",
    "              'prob_0': y_lgm_pr[:,0],\n",
    "              'prob_1': y_lgm_pr[:,1]\n",
    "             }).head(20)"
   ]
  },
  {
   "cell_type": "markdown",
   "metadata": {},
   "source": [
    ".coef_ for linear models these are the coefficients that are assigned to your different features"
   ]
  },
  {
   "cell_type": "markdown",
   "metadata": {},
   "source": [
    "Big impact not same as Better predictions A larger coefficient simple means it has a strong weight in calculating predictions, but that could lead to large error!"
   ]
  },
  {
   "cell_type": "code",
   "execution_count": 89,
   "metadata": {},
   "outputs": [
    {
     "name": "stdout",
     "output_type": "stream",
     "text": [
      "[[ 0.64  0.34  0.46  0.12 -0.1   0.17 -0.01  0.45  0.37 -0.07  0.14 -0.07\n",
      "   0.    0.06 -0.24 -0.04 -0.25  0.13  0.    0.25 -0.03 -0.18  0.19  0.07]]\n"
     ]
    }
   ],
   "source": [
    "print(lm.coef_)"
   ]
  },
  {
   "cell_type": "markdown",
   "metadata": {},
   "source": [
    "## Generating a confusion matrix"
   ]
  },
  {
   "cell_type": "code",
   "execution_count": 83,
   "metadata": {},
   "outputs": [
    {
     "name": "stdout",
     "output_type": "stream",
     "text": [
      "Confusion matrix, without normalization\n",
      "[[93 20]\n",
      " [42 17]]\n"
     ]
    },
    {
     "data": {
      "image/png": "[encoded data removed]",
      "text/plain": [
       "<Figure size 432x288 with 2 Axes>"
      ]
     },
     "metadata": {},
     "output_type": "display_data"
    }
   ],
   "source": [
    "y_pred = lm.predict(X_valid)\n",
    "def plot_confusion_matrix(cm, classes,\n",
    "                          normalize=False,\n",
    "                          title='Confusion matrix',\n",
    "                          cmap=plt.cm.Blues):\n",
    "    \"\"\"\n",
    "    This function prints and plots the confusion matrix.\n",
    "    Normalization can be applied by setting `normalize=True`.\n",
    "    \"\"\"\n",
    "    if normalize:\n",
    "        cm = cm.astype('float') / cm.sum(axis=1)[:, np.newaxis]\n",
    "        print(\"Normalized confusion matrix\")\n",
    "    else:\n",
    "        print('Confusion matrix, without normalization')\n",
    "\n",
    "    print(cm)\n",
    "\n",
    "    plt.imshow(cm, interpolation='nearest', cmap=cmap)\n",
    "    plt.title(title)\n",
    "    plt.colorbar()\n",
    "    tick_marks = np.arange(len(classes))\n",
    "    plt.xticks(tick_marks, classes, rotation=45)\n",
    "    plt.yticks(tick_marks, classes)\n",
    "\n",
    "    fmt = '.2f' if normalize else 'd'\n",
    "    thresh = cm.max() / 2.\n",
    "    for i, j in itertools.product(range(cm.shape[0]), range(cm.shape[1])):\n",
    "        plt.text(j, i, format(cm[i, j], fmt),\n",
    "                 horizontalalignment=\"center\",\n",
    "                 color=\"white\" if cm[i, j] > thresh else \"black\")\n",
    "\n",
    "    plt.tight_layout()\n",
    "    plt.ylabel('True label')\n",
    "    plt.xlabel('Predicted label')\n",
    "    \n",
    "    \n",
    "cnf_matrix = metrics.confusion_matrix(y_valid, y_pred)\n",
    "np.set_printoptions(precision=2)\n",
    "\n",
    "# Plot non-normalized confusion matrix\n",
    "plt.figure()\n",
    "plot_confusion_matrix(cnf_matrix, classes=['No', 'Si'],\n",
    "                      title='Confusion matrix, without normalization')"
   ]
  },
  {
   "cell_type": "markdown",
   "metadata": {},
   "source": [
    "#### Sklearn metrics - good ones to know\n",
    "\n",
    "\n",
    "- metrics.accuracy_score(y_true, y_pred[, …]) Accuracy classification score.\n",
    "- metrics.auc(x, y[, reorder]) Compute Area Under the Curve (AUC) using the trapezoidal rule\n",
    "- metrics.classification_report(y_true, y_pred) Build a text report showing the main classification metrics\n",
    "- metrics.confusion_matrix(y_true, y_pred[, …]) Compute confusion matrix to evaluate the accuracy of a classification\n",
    "- metrics.f1_score(y_true, y_pred[, labels, …]) Compute the F1 score, also known as balanced F-score or F-measure\n",
    "- metrics.fbeta_score(y_true, y_pred, beta[, …]) Compute the F-beta score\n",
    "- metrics.hinge_loss(y_true, pred_decision[, …]) Average hinge loss (non-regularized)\n",
    "- metrics.log_loss(y_true, y_pred[, eps, …]) Log loss, aka logistic loss or cross-entropy loss.\n",
    "- metrics.precision_recall_curve(y_true, …) Compute precision-recall pairs for different probability thresholds\n",
    "- metrics.precision_recall_fscore_support(…) Compute precision, recall, F-measure and support for each class\n",
    "- metrics.precision_score(y_true, y_pred[, …]) Compute the precision\n",
    "- metrics.recall_score(y_true, y_pred[, …]) Compute the recall\n",
    "- metrics.roc_auc_score(y_true, y_score[, …]) Compute Area Under the Receiver Operating Characteristic Curve (ROC AUC) from prediction scores.\n",
    "- metrics.roc_curve(y_true, y_score[, …]) Compute Receiver operating characteristic (ROC)\n",
    "- metrics.zero_one_loss(y_true, y_pred[, …]) Zero-one classification loss."
   ]
  },
  {
   "cell_type": "code",
   "execution_count": 98,
   "metadata": {},
   "outputs": [
    {
     "name": "stdout",
     "output_type": "stream",
     "text": [
      "Log Loss:  11.008163141040425\n",
      "Accuracy_score:  0.6812865497076024\n",
      "confusion_matrix:  [[377 163]\n",
      " [ 55  89]]\n",
      "Classification_Report:               precision    recall  f1-score   support\n",
      "\n",
      "          0       0.87      0.70      0.78       540\n",
      "          1       0.35      0.62      0.45       144\n",
      "\n",
      "avg / total       0.76      0.68      0.71       684\n",
      "\n"
     ]
    }
   ],
   "source": [
    "from sklearn.metrics import accuracy_score, auc, classification_report, \\\n",
    "confusion_matrix, f1_score, log_loss, precision_recall_curve, roc_auc_score, roc_curve\n",
    "\n",
    "print('Log Loss: ', log_loss(y_lgm_p, y_cls_train))\n",
    "print('Accuracy_score: ', accuracy_score(y_lgm_p, y_cls_train))\n",
    "print('confusion_matrix: ', confusion_matrix(y_lgm_p, y_cls_train))\n",
    "print('Classification_Report: ', classification_report(y_lgm_p, y_cls_train))"
   ]
  },
  {
   "cell_type": "markdown",
   "metadata": {},
   "source": [
    "## Grid Search/Randomized Search: the quest for hyperparameters \n"
   ]
  },
  {
   "cell_type": "markdown",
   "metadata": {},
   "source": [
    "Look at how many options are in logistic regression:\n",
    "   \n",
    "   LogisticRegression(C=1.0, class_weight=None, dual=False, fit_intercept=True,\n",
    "             intercept_scaling=1, max_iter=100, multi_class='ovr', n_jobs=1,\n",
    "            penalty='l2', random_state=None, solver='liblinear', tol=0.0001,\n",
    "             verbose=0, warm_start=False)\n",
    "             \n",
    "Many of the advanced machine learning functions have a large number of model options that can be entered. these are often called hyper parameters. These address questions such as:\n",
    "\n",
    "\"how long should the model run\", or\n",
    "\"how many times should my computer re-look at the data\" or\n",
    "\"how slow should the computer work through the problem?\"\n",
    "\n",
    "To assist answering some of these questions, sklearn has GridSearch and RandomizedSearch which will try various combinations with a provided model, compare scores and return the optimal model that should be tried."
   ]
  },
  {
   "cell_type": "code",
   "execution_count": 84,
   "metadata": {},
   "outputs": [],
   "source": [
    "rfr = RandomForestRegressor(n_jobs=-1)"
   ]
  },
  {
   "cell_type": "markdown",
   "metadata": {},
   "source": [
    "Using GridSearch we can find the optimal parameters for Random forest "
   ]
  },
  {
   "cell_type": "code",
   "execution_count": 86,
   "metadata": {},
   "outputs": [
    {
     "name": "stdout",
     "output_type": "stream",
     "text": [
      "{'max_depth': 2, 'max_features': 0.25} 0.026895482916190438\n"
     ]
    }
   ],
   "source": [
    "params = {\n",
    "    'max_features': [0.25, 0.5, 0.7],\n",
    "    'max_depth' : [ 2,5,10,20]\n",
    "}\n",
    "gs = GridSearchCV(cv=5, param_grid=params, estimator=rfr, verbose=0)\n",
    "gs.fit(X_train,y_train)\n",
    "print(gs.best_params_, gs.best_score_)"
   ]
  },
  {
   "cell_type": "markdown",
   "metadata": {},
   "source": [
    "Using RandomSearch we can find the optimal parameters for Random forest "
   ]
  },
  {
   "cell_type": "code",
   "execution_count": 88,
   "metadata": {},
   "outputs": [
    {
     "name": "stdout",
     "output_type": "stream",
     "text": [
      "{'max_features': 0.5, 'max_depth': 2} 0.025731646676832202\n"
     ]
    }
   ],
   "source": [
    "params = {\n",
    "    'max_features': [0.25, 0.5, 0.7],\n",
    "    'max_depth' : [ 2,5,10,20]\n",
    "}\n",
    "rs = RandomizedSearchCV(cv=5, param_distributions=params, estimator=rfr, verbose=0)\n",
    "rs.fit(X_train,y_train)\n",
    "print(rs.best_params_, rs.best_score_)"
   ]
  }
 ],
 "metadata": {
  "kernelspec": {
   "display_name": "Python 3",
   "language": "python",
   "name": "python3"
  },
  "language_info": {
   "codemirror_mode": {
    "name": "ipython",
    "version": 3
   },
   "file_extension": ".py",
   "mimetype": "text/x-python",
   "name": "python",
   "nbconvert_exporter": "python",
   "pygments_lexer": "ipython3",
   "version": "3.6.5"
  }
 },
 "nbformat": 4,
 "nbformat_minor": 2
}
