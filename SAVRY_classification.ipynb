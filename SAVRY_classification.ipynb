{
 "cells": [
  {
   "cell_type": "code",
   "execution_count": 1,
   "metadata": {},
   "outputs": [
    {
     "name": "stderr",
     "output_type": "stream",
     "text": [
      "/Users/mariusmiron/anaconda/envs/bias/lib/python3.6/site-packages/sklearn/cross_validation.py:41: DeprecationWarning: This module was deprecated in version 0.18 in favor of the model_selection module into which all the refactored classes and functions are moved. Also note that the interface of the new CV iterators are different from that of this module. This module will be removed in 0.20.\n",
      "  \"This module will be removed in 0.20.\", DeprecationWarning)\n"
     ]
    }
   ],
   "source": [
    "import pandas as pd\n",
    "import seaborn as sns\n",
    "import numpy as np\n",
    "import itertools\n",
    "import matplotlib.pyplot as plt\n",
    "import matplotlib.ticker as ticker\n",
    "from matplotlib import colors\n",
    "from matplotlib.ticker import PercentFormatter\n",
    "from sklearn import metrics\n",
    "import pickle\n",
    "def save_object(obj, filename):\n",
    "    with open(filename, 'wb') as output:  # Overwrites any existing file.\n",
    "        pickle.dump(obj, output, pickle.HIGHEST_PROTOCOL)\n",
    "from aequitas.group import Group\n",
    "from aequitas.bias import Bias\n",
    "from aequitas.fairness import Fairness\n",
    "\n",
    "#prep\n",
    "from sklearn.model_selection import train_test_split, GridSearchCV, RandomizedSearchCV\n",
    "from sklearn.preprocessing import LabelEncoder, StandardScaler, MaxAbsScaler, QuantileTransformer\n",
    "\n",
    "#models\n",
    "from sklearn.linear_model import LogisticRegression, LogisticRegressionCV, LinearRegression, Ridge, RidgeCV\n",
    "from sklearn.tree import DecisionTreeRegressor\n",
    "from sklearn.ensemble import RandomForestRegressor\n",
    "\n",
    "#validation libraries\n",
    "from sklearn.cross_validation import KFold, StratifiedKFold"
   ]
  },
  {
   "cell_type": "code",
   "execution_count": 2,
   "metadata": {},
   "outputs": [],
   "source": [
    "##Load datasets\n",
    "with open('dat/dfmain.pkl', 'rb') as pickle_file:\n",
    "    dfmain = pickle.load(pickle_file) "
   ]
  },
  {
   "cell_type": "code",
   "execution_count": 3,
   "metadata": {},
   "outputs": [
    {
     "name": "stderr",
     "output_type": "stream",
     "text": [
      "/Users/mariusmiron/anaconda/envs/bias/lib/python3.6/site-packages/ipykernel_launcher.py:3: SettingWithCopyWarning: \n",
      "A value is trying to be set on a copy of a slice from a DataFrame\n",
      "\n",
      "See the caveats in the documentation: http://pandas.pydata.org/pandas-docs/stable/indexing.html#indexing-view-versus-copy\n",
      "  This is separate from the ipykernel package so we can avoid doing imports until\n",
      "/Users/mariusmiron/anaconda/envs/bias/lib/python3.6/site-packages/ipykernel_launcher.py:4: SettingWithCopyWarning: \n",
      "A value is trying to be set on a copy of a slice from a DataFrame\n",
      "\n",
      "See the caveats in the documentation: http://pandas.pydata.org/pandas-docs/stable/indexing.html#indexing-view-versus-copy\n",
      "  after removing the cwd from sys.path.\n",
      "/Users/mariusmiron/anaconda/envs/bias/lib/python3.6/site-packages/pandas/core/generic.py:4619: SettingWithCopyWarning: \n",
      "A value is trying to be set on a copy of a slice from a DataFrame\n",
      "\n",
      "See the caveats in the documentation: http://pandas.pydata.org/pandas-docs/stable/indexing.html#indexing-view-versus-copy\n",
      "  self._update_inplace(new_data)\n"
     ]
    },
    {
     "data": {
      "text/plain": [
       "array([[1. , 1. , 0.5, ..., 1. , 0.5, 0.5],\n",
       "       [1. , 1. , 0.5, ..., 0. , 0. , 0.5],\n",
       "       [1. , 1. , 1. , ..., 0.5, 0.5, 0. ],\n",
       "       ...,\n",
       "       [0. , 0. , 0. , ..., 0. , 0. , 1. ],\n",
       "       [0. , 0. , 0. , ..., 0. , 0. , 0. ],\n",
       "       [0. , 0. , 0.5, ..., 0. , 0. , 0. ]])"
      ]
     },
     "execution_count": 3,
     "metadata": {},
     "output_type": "execute_result"
    }
   ],
   "source": [
    "df=dfmain[['recid','V65_@1_violencia_previa','V66_@2_historia_delictes_no_violents','V67_@3_inici_precoç_violencia',\\\n",
    "           'V68_@4_fracas_intervencions_anteriors','V69_@5_intents_autolesio_suicidi_anteriors','V70_@6_exposicio_violencia_llar',\\\n",
    "          'V71_@7_historia_maltracte_infantil','V72_@8_delinquencia_pares','V73_@9_separacio_precoç_pares',\\\n",
    "          'V74_@10_baix_rendiment_escola','V75_@11_delinquencia_grup_iguals','V76_@12_rebuig_grup_iguals',\\\n",
    "          'V77_@13_estrés_incapacitat_enfrontar_dificultats','V78_@14_escassa_habilitat_pares_educar','V79_@15_manca_suport_personal_social',\\\n",
    "          'V80_@16_entorn_marginal','V81_@17_actitud_negatives','V82_@18_assumpcio_riscos_impulsivitat',\\\n",
    "          'V83_@19_problemes_consum_toxics','V84_@20_problemes_maneig_enuig','V85_@21_baix_nivell_empatia_remordiment',\\\n",
    "          'V86_@22_problemes_concentracio_hiperactivitat','V87_@23_baixa_colaboracio_intervencions','V88_@24_baix_compromis_escolar_laboral']]\n",
    "\n",
    "df.dropna(inplace=True)\n",
    "df.replace(['Baix','Moderat','Alt'],[0,0.5,1],inplace=True)\n",
    "df['recid'].replace(['Sí','No'],[1,0],inplace=True)\n",
    "df.as_matrix()"
   ]
  },
  {
   "cell_type": "code",
   "execution_count": 4,
   "metadata": {},
   "outputs": [],
   "source": [
    "df = df.sample(frac=1, axis=1).reset_index(drop=True)\n",
    "feature_cols = [col for col in df.columns if 'recid' not in col]\n",
    "y = df['recid']\n",
    "X = df[feature_cols]"
   ]
  },
  {
   "cell_type": "code",
   "execution_count": 5,
   "metadata": {},
   "outputs": [
    {
     "name": "stdout",
     "output_type": "stream",
     "text": [
      "(684, 24) (172, 24) (684,) (172,)\n"
     ]
    }
   ],
   "source": [
    "X_cls_train, X_cls_valid, y_cls_train, y_cls_valid = train_test_split(X,y, test_size=0.2)\n",
    "print(X_cls_train.shape, X_cls_valid.shape, y_cls_train.shape, y_cls_valid.shape)"
   ]
  },
  {
   "cell_type": "markdown",
   "metadata": {},
   "source": [
    "## Classification using logistic regression"
   ]
  },
  {
   "cell_type": "markdown",
   "metadata": {},
   "source": [
    "When using clasification, or logistic regression, we can always get the predictions  .predict(usually 0, 1, 2 or discrete values). But there's a second function all .predict_logproba and .predict_proba with will give a [0,1] probability for every row. This is often used to rank predictions for classification scores (listed below)"
   ]
  },
  {
   "cell_type": "markdown",
   "metadata": {},
   "source": [
    "why log prob vs. prob? Gradient methods generally work better optimizing logp(x)log⁡p(x) than p(x)p(x) because the gradient of logp(x)log⁡p(x) is generally more well-scaled. That is, it has a size that consistently and helpfully reflects the objective function's geometry, making it easier to select an appropriate step size and get to the optimum in fewer steps.\n",
    "\n",
    "- .predict - gives 1's and 0's\n",
    "- .predict_logproba - gives array of log probabilities, obs vs. classes\n",
    "- .predict_proba - gives array of probabilities, obs vs. classes"
   ]
  },
  {
   "cell_type": "code",
   "execution_count": 6,
   "metadata": {},
   "outputs": [
    {
     "data": {
      "text/plain": [
       "LogisticRegression(C=1.0, class_weight=None, dual=False, fit_intercept=True,\n",
       "          intercept_scaling=1, max_iter=100, multi_class='ovr', n_jobs=1,\n",
       "          penalty='l2', random_state=None, solver='liblinear', tol=0.0001,\n",
       "          verbose=0, warm_start=False)"
      ]
     },
     "execution_count": 6,
     "metadata": {},
     "output_type": "execute_result"
    }
   ],
   "source": [
    "lgm = LogisticRegression()\n",
    "lgm.fit(X_cls_train,y_cls_train)"
   ]
  },
  {
   "cell_type": "code",
   "execution_count": 7,
   "metadata": {},
   "outputs": [
    {
     "data": {
      "text/plain": [
       "0.6511627906976745"
      ]
     },
     "execution_count": 7,
     "metadata": {},
     "output_type": "execute_result"
    }
   ],
   "source": [
    "lgm.score(X_cls_valid,y_cls_valid)"
   ]
  },
  {
   "cell_type": "code",
   "execution_count": 8,
   "metadata": {},
   "outputs": [
    {
     "data": {
      "text/plain": [
       "0.6491228070175439"
      ]
     },
     "execution_count": 8,
     "metadata": {},
     "output_type": "execute_result"
    }
   ],
   "source": [
    "lgm.score(X_cls_train,y_cls_train)"
   ]
  },
  {
   "cell_type": "code",
   "execution_count": 9,
   "metadata": {},
   "outputs": [
    {
     "data": {
      "text/html": [
       "<div>\n",
       "<style scoped>\n",
       "    .dataframe tbody tr th:only-of-type {\n",
       "        vertical-align: middle;\n",
       "    }\n",
       "\n",
       "    .dataframe tbody tr th {\n",
       "        vertical-align: top;\n",
       "    }\n",
       "\n",
       "    .dataframe thead th {\n",
       "        text-align: right;\n",
       "    }\n",
       "</style>\n",
       "<table border=\"1\" class=\"dataframe\">\n",
       "  <thead>\n",
       "    <tr style=\"text-align: right;\">\n",
       "      <th></th>\n",
       "      <th>log_prob_0</th>\n",
       "      <th>log_prob_1</th>\n",
       "      <th>predict</th>\n",
       "      <th>prob_0</th>\n",
       "      <th>prob_1</th>\n",
       "      <th>true</th>\n",
       "    </tr>\n",
       "  </thead>\n",
       "  <tbody>\n",
       "    <tr>\n",
       "      <th>0</th>\n",
       "      <td>-0.284955</td>\n",
       "      <td>-1.394521</td>\n",
       "      <td>0</td>\n",
       "      <td>0.752048</td>\n",
       "      <td>0.247952</td>\n",
       "      <td>0</td>\n",
       "    </tr>\n",
       "    <tr>\n",
       "      <th>1</th>\n",
       "      <td>-0.634199</td>\n",
       "      <td>-0.755789</td>\n",
       "      <td>0</td>\n",
       "      <td>0.530360</td>\n",
       "      <td>0.469640</td>\n",
       "      <td>0</td>\n",
       "    </tr>\n",
       "    <tr>\n",
       "      <th>2</th>\n",
       "      <td>-0.526947</td>\n",
       "      <td>-0.892586</td>\n",
       "      <td>0</td>\n",
       "      <td>0.590405</td>\n",
       "      <td>0.409595</td>\n",
       "      <td>0</td>\n",
       "    </tr>\n",
       "    <tr>\n",
       "      <th>3</th>\n",
       "      <td>-0.265018</td>\n",
       "      <td>-1.457543</td>\n",
       "      <td>0</td>\n",
       "      <td>0.767192</td>\n",
       "      <td>0.232808</td>\n",
       "      <td>0</td>\n",
       "    </tr>\n",
       "    <tr>\n",
       "      <th>4</th>\n",
       "      <td>-0.592395</td>\n",
       "      <td>-0.805199</td>\n",
       "      <td>0</td>\n",
       "      <td>0.553001</td>\n",
       "      <td>0.446999</td>\n",
       "      <td>1</td>\n",
       "    </tr>\n",
       "    <tr>\n",
       "      <th>5</th>\n",
       "      <td>-0.824033</td>\n",
       "      <td>-0.577427</td>\n",
       "      <td>1</td>\n",
       "      <td>0.438659</td>\n",
       "      <td>0.561341</td>\n",
       "      <td>0</td>\n",
       "    </tr>\n",
       "    <tr>\n",
       "      <th>6</th>\n",
       "      <td>-0.513767</td>\n",
       "      <td>-0.911895</td>\n",
       "      <td>0</td>\n",
       "      <td>0.598238</td>\n",
       "      <td>0.401762</td>\n",
       "      <td>1</td>\n",
       "    </tr>\n",
       "    <tr>\n",
       "      <th>7</th>\n",
       "      <td>-0.323158</td>\n",
       "      <td>-1.286844</td>\n",
       "      <td>0</td>\n",
       "      <td>0.723859</td>\n",
       "      <td>0.276141</td>\n",
       "      <td>0</td>\n",
       "    </tr>\n",
       "    <tr>\n",
       "      <th>8</th>\n",
       "      <td>-0.352505</td>\n",
       "      <td>-1.213771</td>\n",
       "      <td>0</td>\n",
       "      <td>0.702925</td>\n",
       "      <td>0.297075</td>\n",
       "      <td>0</td>\n",
       "    </tr>\n",
       "    <tr>\n",
       "      <th>9</th>\n",
       "      <td>-0.241865</td>\n",
       "      <td>-1.537873</td>\n",
       "      <td>0</td>\n",
       "      <td>0.785162</td>\n",
       "      <td>0.214838</td>\n",
       "      <td>0</td>\n",
       "    </tr>\n",
       "    <tr>\n",
       "      <th>10</th>\n",
       "      <td>-0.208001</td>\n",
       "      <td>-1.672409</td>\n",
       "      <td>0</td>\n",
       "      <td>0.812206</td>\n",
       "      <td>0.187794</td>\n",
       "      <td>0</td>\n",
       "    </tr>\n",
       "    <tr>\n",
       "      <th>11</th>\n",
       "      <td>-0.588295</td>\n",
       "      <td>-0.810295</td>\n",
       "      <td>0</td>\n",
       "      <td>0.555273</td>\n",
       "      <td>0.444727</td>\n",
       "      <td>1</td>\n",
       "    </tr>\n",
       "    <tr>\n",
       "      <th>12</th>\n",
       "      <td>-0.258744</td>\n",
       "      <td>-1.478500</td>\n",
       "      <td>0</td>\n",
       "      <td>0.772020</td>\n",
       "      <td>0.227980</td>\n",
       "      <td>0</td>\n",
       "    </tr>\n",
       "    <tr>\n",
       "      <th>13</th>\n",
       "      <td>-0.433983</td>\n",
       "      <td>-1.043906</td>\n",
       "      <td>0</td>\n",
       "      <td>0.647923</td>\n",
       "      <td>0.352077</td>\n",
       "      <td>0</td>\n",
       "    </tr>\n",
       "    <tr>\n",
       "      <th>14</th>\n",
       "      <td>-0.201096</td>\n",
       "      <td>-1.702837</td>\n",
       "      <td>0</td>\n",
       "      <td>0.817834</td>\n",
       "      <td>0.182166</td>\n",
       "      <td>0</td>\n",
       "    </tr>\n",
       "    <tr>\n",
       "      <th>15</th>\n",
       "      <td>-1.059732</td>\n",
       "      <td>-0.425487</td>\n",
       "      <td>1</td>\n",
       "      <td>0.346549</td>\n",
       "      <td>0.653451</td>\n",
       "      <td>0</td>\n",
       "    </tr>\n",
       "    <tr>\n",
       "      <th>16</th>\n",
       "      <td>-0.509198</td>\n",
       "      <td>-0.918737</td>\n",
       "      <td>0</td>\n",
       "      <td>0.600977</td>\n",
       "      <td>0.399023</td>\n",
       "      <td>1</td>\n",
       "    </tr>\n",
       "    <tr>\n",
       "      <th>17</th>\n",
       "      <td>-0.231106</td>\n",
       "      <td>-1.578206</td>\n",
       "      <td>0</td>\n",
       "      <td>0.793655</td>\n",
       "      <td>0.206345</td>\n",
       "      <td>1</td>\n",
       "    </tr>\n",
       "    <tr>\n",
       "      <th>18</th>\n",
       "      <td>-0.425776</td>\n",
       "      <td>-1.059188</td>\n",
       "      <td>0</td>\n",
       "      <td>0.653263</td>\n",
       "      <td>0.346737</td>\n",
       "      <td>1</td>\n",
       "    </tr>\n",
       "    <tr>\n",
       "      <th>19</th>\n",
       "      <td>-0.380862</td>\n",
       "      <td>-1.149712</td>\n",
       "      <td>0</td>\n",
       "      <td>0.683272</td>\n",
       "      <td>0.316728</td>\n",
       "      <td>0</td>\n",
       "    </tr>\n",
       "  </tbody>\n",
       "</table>\n",
       "</div>"
      ],
      "text/plain": [
       "    log_prob_0  log_prob_1  predict    prob_0    prob_1  true\n",
       "0    -0.284955   -1.394521        0  0.752048  0.247952     0\n",
       "1    -0.634199   -0.755789        0  0.530360  0.469640     0\n",
       "2    -0.526947   -0.892586        0  0.590405  0.409595     0\n",
       "3    -0.265018   -1.457543        0  0.767192  0.232808     0\n",
       "4    -0.592395   -0.805199        0  0.553001  0.446999     1\n",
       "5    -0.824033   -0.577427        1  0.438659  0.561341     0\n",
       "6    -0.513767   -0.911895        0  0.598238  0.401762     1\n",
       "7    -0.323158   -1.286844        0  0.723859  0.276141     0\n",
       "8    -0.352505   -1.213771        0  0.702925  0.297075     0\n",
       "9    -0.241865   -1.537873        0  0.785162  0.214838     0\n",
       "10   -0.208001   -1.672409        0  0.812206  0.187794     0\n",
       "11   -0.588295   -0.810295        0  0.555273  0.444727     1\n",
       "12   -0.258744   -1.478500        0  0.772020  0.227980     0\n",
       "13   -0.433983   -1.043906        0  0.647923  0.352077     0\n",
       "14   -0.201096   -1.702837        0  0.817834  0.182166     0\n",
       "15   -1.059732   -0.425487        1  0.346549  0.653451     0\n",
       "16   -0.509198   -0.918737        0  0.600977  0.399023     1\n",
       "17   -0.231106   -1.578206        0  0.793655  0.206345     1\n",
       "18   -0.425776   -1.059188        0  0.653263  0.346737     1\n",
       "19   -0.380862   -1.149712        0  0.683272  0.316728     0"
      ]
     },
     "execution_count": 9,
     "metadata": {},
     "output_type": "execute_result"
    }
   ],
   "source": [
    "y_lgm_p = lgm.predict(X_cls_train)\n",
    "y_lgm_lpr = lgm.predict_log_proba(X_cls_train)\n",
    "y_lgm_pr = lgm.predict_proba(X_cls_train)\n",
    "\n",
    "y_lgm_lpr[:,0]\n",
    "y_lgm_pr[:,0]\n",
    "y_lgm_pr[:,1]\n",
    "pd.DataFrame({'true': y_cls_train.values,\n",
    "              'predict':y_lgm_p, \n",
    "              'log_prob_0':y_lgm_lpr[:,0],\n",
    "              'log_prob_1':y_lgm_lpr[:,1],\n",
    "              'prob_0': y_lgm_pr[:,0],\n",
    "              'prob_1': y_lgm_pr[:,1]\n",
    "             }).head(20)"
   ]
  },
  {
   "cell_type": "markdown",
   "metadata": {},
   "source": [
    ".coef_ for linear models these are the coefficients that are assigned to your different features"
   ]
  },
  {
   "cell_type": "markdown",
   "metadata": {},
   "source": [
    "Big impact not same as Better predictions A larger coefficient simple means it has a strong weight in calculating predictions, but that could lead to large error!"
   ]
  },
  {
   "cell_type": "code",
   "execution_count": 11,
   "metadata": {},
   "outputs": [
    {
     "name": "stdout",
     "output_type": "stream",
     "text": [
      "[[ 0.00870733  0.31198791  0.3569487   0.18115016 -0.1000432   0.11154537\n",
      "  -0.02481196 -0.00255487  0.24975471 -0.11437017  0.29418839  0.15037198\n",
      "   0.11308357  0.12375745 -0.21523041 -0.41317466  0.42212898  0.14543811\n",
      "  -0.22242826  0.32646719  0.18538772  0.06645622  0.61844732  0.03541324]]\n"
     ]
    }
   ],
   "source": [
    "print(lgm.coef_)"
   ]
  },
  {
   "cell_type": "markdown",
   "metadata": {},
   "source": [
    "## Generating a confusion matrix"
   ]
  },
  {
   "cell_type": "code",
   "execution_count": 15,
   "metadata": {},
   "outputs": [
    {
     "name": "stdout",
     "output_type": "stream",
     "text": [
      "Confusion matrix, without normalization\n",
      "[[93 10]\n",
      " [50 19]]\n"
     ]
    },
    {
     "data": {
      "image/png": "[encoded data removed]",
      "text/plain": [
       "<Figure size 432x288 with 2 Axes>"
      ]
     },
     "metadata": {},
     "output_type": "display_data"
    }
   ],
   "source": [
    "y_pred = lgm.predict(X_cls_valid)\n",
    "def plot_confusion_matrix(cm, classes,\n",
    "                          normalize=False,\n",
    "                          title='Confusion matrix',\n",
    "                          cmap=plt.cm.Blues):\n",
    "    \"\"\"\n",
    "    This function prints and plots the confusion matrix.\n",
    "    Normalization can be applied by setting `normalize=True`.\n",
    "    \"\"\"\n",
    "    if normalize:\n",
    "        cm = cm.astype('float') / cm.sum(axis=1)[:, np.newaxis]\n",
    "        print(\"Normalized confusion matrix\")\n",
    "    else:\n",
    "        print('Confusion matrix, without normalization')\n",
    "\n",
    "    print(cm)\n",
    "\n",
    "    plt.imshow(cm, interpolation='nearest', cmap=cmap)\n",
    "    plt.title(title)\n",
    "    plt.colorbar()\n",
    "    tick_marks = np.arange(len(classes))\n",
    "    plt.xticks(tick_marks, classes, rotation=45)\n",
    "    plt.yticks(tick_marks, classes)\n",
    "\n",
    "    fmt = '.2f' if normalize else 'd'\n",
    "    thresh = cm.max() / 2.\n",
    "    for i, j in itertools.product(range(cm.shape[0]), range(cm.shape[1])):\n",
    "        plt.text(j, i, format(cm[i, j], fmt),\n",
    "                 horizontalalignment=\"center\",\n",
    "                 color=\"white\" if cm[i, j] > thresh else \"black\")\n",
    "\n",
    "    plt.tight_layout()\n",
    "    plt.ylabel('True label')\n",
    "    plt.xlabel('Predicted label')\n",
    "    \n",
    "    \n",
    "cnf_matrix = metrics.confusion_matrix(y_cls_valid, y_pred)\n",
    "np.set_printoptions(precision=2)\n",
    "\n",
    "# Plot non-normalized confusion matrix\n",
    "plt.figure()\n",
    "plot_confusion_matrix(cnf_matrix, classes=['No', 'Si'],\n",
    "                      title='Confusion matrix, without normalization')"
   ]
  },
  {
   "cell_type": "markdown",
   "metadata": {},
   "source": [
    "#### Sklearn metrics - good ones to know\n",
    "\n",
    "\n",
    "- metrics.accuracy_score(y_true, y_pred[, …]) Accuracy classification score.\n",
    "- metrics.auc(x, y[, reorder]) Compute Area Under the Curve (AUC) using the trapezoidal rule\n",
    "- metrics.classification_report(y_true, y_pred) Build a text report showing the main classification metrics\n",
    "- metrics.confusion_matrix(y_true, y_pred[, …]) Compute confusion matrix to evaluate the accuracy of a classification\n",
    "- metrics.f1_score(y_true, y_pred[, labels, …]) Compute the F1 score, also known as balanced F-score or F-measure\n",
    "- metrics.fbeta_score(y_true, y_pred, beta[, …]) Compute the F-beta score\n",
    "- metrics.hinge_loss(y_true, pred_decision[, …]) Average hinge loss (non-regularized)\n",
    "- metrics.log_loss(y_true, y_pred[, eps, …]) Log loss, aka logistic loss or cross-entropy loss.\n",
    "- metrics.precision_recall_curve(y_true, …) Compute precision-recall pairs for different probability thresholds\n",
    "- metrics.precision_recall_fscore_support(…) Compute precision, recall, F-measure and support for each class\n",
    "- metrics.precision_score(y_true, y_pred[, …]) Compute the precision\n",
    "- metrics.recall_score(y_true, y_pred[, …]) Compute the recall\n",
    "- metrics.roc_auc_score(y_true, y_score[, …]) Compute Area Under the Receiver Operating Characteristic Curve (ROC AUC) from prediction scores.\n",
    "- metrics.roc_curve(y_true, y_score[, …]) Compute Receiver operating characteristic (ROC)\n",
    "- metrics.zero_one_loss(y_true, y_pred[, …]) Zero-one classification loss."
   ]
  },
  {
   "cell_type": "code",
   "execution_count": 16,
   "metadata": {},
   "outputs": [
    {
     "name": "stdout",
     "output_type": "stream",
     "text": [
      "Log Loss:  12.119079330871346\n",
      "Accuracy_score:  0.6491228070175439\n",
      "confusion_matrix:  [[372 180]\n",
      " [ 60  72]]\n",
      "Classification_Report:               precision    recall  f1-score   support\n",
      "\n",
      "          0       0.86      0.67      0.76       552\n",
      "          1       0.29      0.55      0.37       132\n",
      "\n",
      "avg / total       0.75      0.65      0.68       684\n",
      "\n"
     ]
    }
   ],
   "source": [
    "from sklearn.metrics import accuracy_score, auc, classification_report, \\\n",
    "confusion_matrix, f1_score, log_loss, precision_recall_curve, roc_auc_score, roc_curve\n",
    "\n",
    "print('Log Loss: ', log_loss(y_lgm_p, y_cls_train))\n",
    "print('Accuracy_score: ', accuracy_score(y_lgm_p, y_cls_train))\n",
    "print('confusion_matrix: ', confusion_matrix(y_lgm_p, y_cls_train))\n",
    "print('Classification_Report: ', classification_report(y_lgm_p, y_cls_train))"
   ]
  },
  {
   "cell_type": "code",
   "execution_count": 18,
   "metadata": {},
   "outputs": [
    {
     "data": {
      "image/png": "[encoded data removed]",
      "text/plain": [
       "<Figure size 432x288 with 1 Axes>"
      ]
     },
     "metadata": {},
     "output_type": "display_data"
    }
   ],
   "source": [
    "fpr, tpr, threshold = roc_curve(y_cls_valid, y_pred)\n",
    "roc_auc = auc(fpr, tpr)\n",
    "\n",
    "plt.title('Receiver Operating Characteristic')\n",
    "plt.plot(fpr, tpr, 'b', label = 'AUC = %0.2f' % roc_auc)\n",
    "plt.legend(loc = 'lower right')\n",
    "plt.plot([0, 1], [0, 1],'r--')\n",
    "plt.xlim([0, 1])\n",
    "plt.ylim([0, 1])\n",
    "plt.ylabel('True Positive Rate')\n",
    "plt.xlabel('False Positive Rate')\n",
    "plt.show()\n"
   ]
  },
  {
   "cell_type": "code",
   "execution_count": 20,
   "metadata": {},
   "outputs": [
    {
     "name": "stderr",
     "output_type": "stream",
     "text": [
      "/Users/mariusmiron/anaconda/envs/bias/lib/python3.6/site-packages/sklearn/metrics/ranking.py:563: UndefinedMetricWarning: No negative samples in y_true, false positive value should be meaningless\n",
      "  UndefinedMetricWarning)\n"
     ]
    },
    {
     "data": {
      "image/png": "[encoded data removed]",
      "text/plain": [
       "<Figure size 432x288 with 1 Axes>"
      ]
     },
     "metadata": {},
     "output_type": "display_data"
    }
   ],
   "source": [
    "y_pred_true = lgm.predict(X_cls_valid[y_cls_valid==1])\n",
    "fpr, tpr, threshold = roc_curve(y_cls_valid[y_cls_valid==1], y_pred_true)\n",
    "roc_auc = auc(fpr, tpr)\n",
    "\n",
    "plt.title('Receiver Operating Characteristic')\n",
    "plt.plot(fpr, tpr, 'b', label = 'AUC = %0.2f' % roc_auc)\n",
    "plt.legend(loc = 'lower right')\n",
    "plt.plot([0, 1], [0, 1],'r--')\n",
    "plt.xlim([0, 1])\n",
    "plt.ylim([0, 1])\n",
    "plt.ylabel('True Positive Rate')\n",
    "plt.xlabel('False Positive Rate')\n",
    "plt.show()"
   ]
  },
  {
   "cell_type": "markdown",
   "metadata": {},
   "source": [
    "## Grid Search/Randomized Search: the quest for hyperparameters \n"
   ]
  },
  {
   "cell_type": "markdown",
   "metadata": {},
   "source": [
    "Look at how many options are in logistic regression:\n",
    "   \n",
    "   LogisticRegression(C=1.0, class_weight=None, dual=False, fit_intercept=True,\n",
    "             intercept_scaling=1, max_iter=100, multi_class='ovr', n_jobs=1,\n",
    "            penalty='l2', random_state=None, solver='liblinear', tol=0.0001,\n",
    "             verbose=0, warm_start=False)\n",
    "             \n",
    "Many of the advanced machine learning functions have a large number of model options that can be entered. these are often called hyper parameters. These address questions such as:\n",
    "\n",
    "\"how long should the model run\", or\n",
    "\"how many times should my computer re-look at the data\" or\n",
    "\"how slow should the computer work through the problem?\"\n",
    "\n",
    "To assist answering some of these questions, sklearn has GridSearch and RandomizedSearch which will try various combinations with a provided model, compare scores and return the optimal model that should be tried."
   ]
  },
  {
   "cell_type": "code",
   "execution_count": null,
   "metadata": {},
   "outputs": [],
   "source": [
    "rfr = RandomForestRegressor(n_jobs=-1)"
   ]
  },
  {
   "cell_type": "markdown",
   "metadata": {},
   "source": [
    "Using GridSearch we can find the optimal parameters for Random forest "
   ]
  },
  {
   "cell_type": "code",
   "execution_count": null,
   "metadata": {},
   "outputs": [],
   "source": [
    "params = {\n",
    "    'max_features': [0.25, 0.5, 0.7],\n",
    "    'max_depth' : [ 2,5,10,20]\n",
    "}\n",
    "gs = GridSearchCV(cv=5, param_grid=params, estimator=rfr, verbose=0)\n",
    "gs.fit(X_train,y_train)\n",
    "print(gs.best_params_, gs.best_score_)"
   ]
  },
  {
   "cell_type": "markdown",
   "metadata": {},
   "source": [
    "Using RandomSearch we can find the optimal parameters for Random forest "
   ]
  },
  {
   "cell_type": "code",
   "execution_count": null,
   "metadata": {},
   "outputs": [],
   "source": [
    "params = {\n",
    "    'max_features': [0.25, 0.5, 0.7],\n",
    "    'max_depth' : [ 2,5,10,20]\n",
    "}\n",
    "rs = RandomizedSearchCV(cv=5, param_distributions=params, estimator=rfr, verbose=0)\n",
    "rs.fit(X_train,y_train)\n",
    "print(rs.best_params_, rs.best_score_)"
   ]
  }
 ],
 "metadata": {
  "kernelspec": {
   "display_name": "Python 3",
   "language": "python",
   "name": "python3"
  },
  "language_info": {
   "codemirror_mode": {
    "name": "ipython",
    "version": 3
   },
   "file_extension": ".py",
   "mimetype": "text/x-python",
   "name": "python",
   "nbconvert_exporter": "python",
   "pygments_lexer": "ipython3",
   "version": "3.6.5"
  }
 },
 "nbformat": 4,
 "nbformat_minor": 2
}
